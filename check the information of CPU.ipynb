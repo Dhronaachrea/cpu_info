{
 "cells": [
  {
   "cell_type": "code",
   "execution_count": 1,
   "metadata": {},
   "outputs": [
    {
     "name": "stdout",
     "output_type": "stream",
     "text": [
      "Requirement already satisfied: psutil in c:\\users\\monu\\anaconda3\\lib\\site-packages (5.6.3)\n",
      "Note: you may need to restart the kernel to use updated packages.\n"
     ]
    }
   ],
   "source": [
    "pip install psutil"
   ]
  },
  {
   "cell_type": "code",
   "execution_count": 2,
   "metadata": {},
   "outputs": [],
   "source": [
    "import psutil"
   ]
  },
  {
   "cell_type": "code",
   "execution_count": 4,
   "metadata": {},
   "outputs": [
    {
     "name": "stdout",
     "output_type": "stream",
     "text": [
      "physical cores:  2\n",
      "Total cores:  4\n",
      "Max freq: 2000.00Mhz\n",
      "Min freq: 0.00Mhz\n",
      "current freq: 2000.00Mhz\n",
      "CPU usage per core\n",
      "core 0 --> 6.3%\n",
      "core 1 --> 6.2%\n",
      "core 2 --> 7.7%\n",
      "core 3 --> 9.4%\n",
      "Total CPU usage: 9.0%\n"
     ]
    }
   ],
   "source": [
    "def cpu_info():\n",
    "    print(\"physical cores value: \",psutil.cpu_count(logical=False))\n",
    "    print(\"Total cores values: \",psutil.cpu_count())\n",
    "    \n",
    "    cpu_freq=psutil.cpu_freq()\n",
    "    print(f'Max freqs: {cpu_freq.max:.2f}Mhz')\n",
    "    print(f'Min freqs: {cpu_freq.min:.2f}Mhz')\n",
    "    print(f'current freq: {cpu_freq.current:.2f}Mhz')\n",
    "    \n",
    "    print('CPU usage per core value')\n",
    "    for i,per in enumerate(psutil.cpu_percent(interval=1,percpu=True)):\n",
    "        print(f'core = {i} --> {per}%')\n",
    "    print(f'Total CPU usage is : {psutil.cpu_percent()}%')\n",
    "\n",
    "if __name__=='__main__':\n",
    "    cpu_info()"
   ]
  },
  {
   "cell_type": "code",
   "execution_count": null,
   "metadata": {},
   "outputs": [],
   "source": []
  }
 ],
 "metadata": {
  "kernelspec": {
   "display_name": "Python 3",
   "language": "python",
   "name": "python3"
  },
  "language_info": {
   "codemirror_mode": {
    "name": "ipython",
    "version": 3
   },
   "file_extension": ".py",
   "mimetype": "text/x-python",
   "name": "python",
   "nbconvert_exporter": "python",
   "pygments_lexer": "ipython3",
   "version": "3.7.4"
  }
 },
 "nbformat": 4,
 "nbformat_minor": 4
}
